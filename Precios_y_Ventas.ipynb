{
  "nbformat": 4,
  "nbformat_minor": 0,
  "metadata": {
    "colab": {
      "provenance": [],
      "authorship_tag": "ABX9TyNl6dOG3A3IhNqIrCQBFaFW",
      "include_colab_link": true
    },
    "kernelspec": {
      "name": "python3",
      "display_name": "Python 3"
    },
    "language_info": {
      "name": "python"
    }
  },
  "cells": [
    {
      "cell_type": "markdown",
      "metadata": {
        "id": "view-in-github",
        "colab_type": "text"
      },
      "source": [
        "<a href=\"https://colab.research.google.com/github/joseluisech/Precios_y_ventas/blob/main/Precios_y_Ventas.ipynb\" target=\"_parent\"><img src=\"https://colab.research.google.com/assets/colab-badge.svg\" alt=\"Open In Colab\"/></a>"
      ]
    },
    {
      "cell_type": "code",
      "source": [
        "# Lista de Precios\n",
        "# El precio de venta de 3 artículos en la venta de pasteles es: $2 por un brownie, $1 por una galleta y $10 por un pastel.\n",
        "# Asignen estos valores a una lista denominada price (precio).\n",
        "\n",
        "price = [2, 1, 10]\n",
        "type(price)\n",
        "\n",
        "\n"
      ],
      "metadata": {
        "colab": {
          "base_uri": "https://localhost:8080/"
        },
        "id": "irvUMGI2q9Oy",
        "outputId": "8e0e5d5c-4f58-4317-c7cc-fbcbb47ea40e"
      },
      "execution_count": 1,
      "outputs": [
        {
          "output_type": "execute_result",
          "data": {
            "text/plain": [
              "list"
            ]
          },
          "metadata": {},
          "execution_count": 1
        }
      ]
    },
    {
      "cell_type": "code",
      "source": [
        "# Lista de Cantidad\n",
        "# El club vende 17 brownies, 40 galletas y un pastel.\n",
        "# Asignen estos valores a una lista denominada quantity_sold (cantidades vendidas).\n",
        "\n",
        "quantity_sold = [17, 40, 1]\n",
        "type(quantity_sold)\n"
      ],
      "metadata": {
        "colab": {
          "base_uri": "https://localhost:8080/"
        },
        "id": "0EXzEENcra83",
        "outputId": "6b19fd79-ba03-4fba-f6e7-493d2b4cab44"
      },
      "execution_count": 2,
      "outputs": [
        {
          "output_type": "execute_result",
          "data": {
            "text/plain": [
              "list"
            ]
          },
          "metadata": {},
          "execution_count": 2
        }
      ]
    },
    {
      "cell_type": "code",
      "source": [
        "# No podemos realizar cálculos entre las listas\n",
        "\n",
        "# Ahora debemos encontrar el dinero recaudado para cada tipo de elemento.  Queremos el precio * cantidad para cada elemento.\n",
        "# Tratemos de multiplicar nuestras listas:\n",
        "\n",
        "import numpy as np\n",
        "\n",
        "price_array = np.array(price)\n",
        "quantity_sold_array = np.array(quantity_sold)\n",
        "type(price_array)\n",
        "\n"
      ],
      "metadata": {
        "colab": {
          "base_uri": "https://localhost:8080/"
        },
        "id": "6Iimiu-Xrko_",
        "outputId": "3be26288-6450-431e-d952-5aa3bf185c64"
      },
      "execution_count": 3,
      "outputs": [
        {
          "output_type": "execute_result",
          "data": {
            "text/plain": [
              "numpy.ndarray"
            ]
          },
          "metadata": {},
          "execution_count": 3
        }
      ]
    },
    {
      "cell_type": "code",
      "source": [
        "#¡Sí! Al usar los arrays de NumPy podemos determinar fácilmente que recaudamos\n",
        "#$34 de la venta de brownies, $40 de la venta de galletas y $10 de la venta de pasteles.\n",
        "\n",
        "\n",
        "price_array * quantity_sold_array\n"
      ],
      "metadata": {
        "colab": {
          "base_uri": "https://localhost:8080/"
        },
        "id": "DCiQPmjtsRmk",
        "outputId": "1807b4e6-e152-48c1-f224-81580e07b1c9"
      },
      "execution_count": 4,
      "outputs": [
        {
          "output_type": "execute_result",
          "data": {
            "text/plain": [
              "array([34, 40, 10])"
            ]
          },
          "metadata": {},
          "execution_count": 4
        }
      ]
    },
    {
      "cell_type": "code",
      "source": [
        "#  Primero, creen un array de NumPy que corresponda al costo de fabricación de cada uno de los artículos vendidos en la venta de pasteles.\n",
        "# Digamos que cuesta $0,25 para hacer un brownie, una galleta, $0,50 y un pastel, $5,00.\n",
        "\n",
        "cost_array = np.array([0.25, 0.50, 5.00])\n"
      ],
      "metadata": {
        "id": "ePc2iK25sZO4"
      },
      "execution_count": 5,
      "outputs": []
    },
    {
      "cell_type": "code",
      "source": [
        "# Para encontrar la ganancia de cada artículo, queremos restar el costo del precio.\n",
        "# Una matriz NumPy realizará la resta por elementos como se muestra:\n",
        "\n",
        "profit_array = price_array - cost_array\n",
        "print(profit_array)\n"
      ],
      "metadata": {
        "colab": {
          "base_uri": "https://localhost:8080/"
        },
        "id": "rhNPolIbt8pV",
        "outputId": "d23066ba-63d7-4332-ee52-6d636ff66dd6"
      },
      "execution_count": 6,
      "outputs": [
        {
          "output_type": "stream",
          "name": "stdout",
          "text": [
            "[1.75 0.5  5.  ]\n"
          ]
        }
      ]
    },
    {
      "cell_type": "code",
      "source": [
        "# Supongamos que quieren identificar qué elementos obtuvieron un beneficio superior a $2 por elemento.\n",
        "# Pueden usar el siguiente código para preguntar si la declaración es True (verdadera) o False (falsa) para cada elemento en el array.\n",
        "\n",
        "profit_array > 2.00\n"
      ],
      "metadata": {
        "colab": {
          "base_uri": "https://localhost:8080/"
        },
        "id": "484XcZzUujwR",
        "outputId": "c05b544a-f56a-4d7a-eeac-ae267ceba623"
      },
      "execution_count": 7,
      "outputs": [
        {
          "output_type": "execute_result",
          "data": {
            "text/plain": [
              "array([False, False,  True])"
            ]
          },
          "metadata": {},
          "execution_count": 7
        }
      ]
    },
    {
      "cell_type": "code",
      "source": [
        "# El club también vende tartas por $7, así que debemos actualizar nuestro price_array\n",
        "price_array = price_array + [7]\n",
        "print(price_array)\n"
      ],
      "metadata": {
        "colab": {
          "base_uri": "https://localhost:8080/"
        },
        "id": "Jl5Ke5t2un-2",
        "outputId": "9aead0cc-4431-40f4-e117-66e07d3782d5"
      },
      "execution_count": 8,
      "outputs": [
        {
          "output_type": "stream",
          "name": "stdout",
          "text": [
            "[ 9  8 17]\n"
          ]
        }
      ]
    },
    {
      "cell_type": "code",
      "source": [
        "#Para regresar a los valores originales, restaremos 7, luego usaremos la función np.append() para incluir el valor 7 como se desee\n",
        "# Just fixing the mistake\n",
        "price_array = price_array - [7]\n",
        "# The proper way to append an element to an array\n",
        "price_array = np.append(price_array, 7)\n",
        "print(price_array)\n"
      ],
      "metadata": {
        "colab": {
          "base_uri": "https://localhost:8080/"
        },
        "id": "Vuol-ro4vLzL",
        "outputId": "bdf3b05f-580c-4723-8303-0aa099f66c48"
      },
      "execution_count": 9,
      "outputs": [
        {
          "output_type": "stream",
          "name": "stdout",
          "text": [
            "[ 2  1 10  7]\n"
          ]
        }
      ]
    },
    {
      "cell_type": "code",
      "source": [
        "# Por ejemplo, el club quiere agregar los siguientes precios:\n",
        "# $4,50 por dulces, $3 por una magdalena, $4 por una barra de pan de plátano y $9 por una torta\n",
        "price_array = np.append(price_array, [4.50, 3, 4, 9])\n",
        "print(price_array)\n",
        "\n"
      ],
      "metadata": {
        "colab": {
          "base_uri": "https://localhost:8080/"
        },
        "id": "E3u0G1CjvdQE",
        "outputId": "b2fdf7f4-190a-48d9-febb-8c439de96110"
      },
      "execution_count": 10,
      "outputs": [
        {
          "output_type": "stream",
          "name": "stdout",
          "text": [
            "[ 2.   1.  10.   7.   4.5  3.   4.   9. ]\n"
          ]
        }
      ]
    },
    {
      "cell_type": "code",
      "source": [
        "# Para comprobar el tipo de datos de los elementos del array, pueden utilizar lo siguiente:\n",
        "print(price_array.dtype)\n"
      ],
      "metadata": {
        "colab": {
          "base_uri": "https://localhost:8080/"
        },
        "id": "WLk1dy86vfl7",
        "outputId": "b11eb09e-ee08-409f-9d1e-373a5dced392"
      },
      "execution_count": 11,
      "outputs": [
        {
          "output_type": "stream",
          "name": "stdout",
          "text": [
            "float64\n"
          ]
        }
      ]
    },
    {
      "cell_type": "code",
      "source": [
        "# Eliminar\n",
        "# Resulta que nadie planea hacer una torta, así que quieren eliminar el precio de ese elemento del array.\n",
        "price_array = np.delete(price_array, -1)\n",
        "print(price_array)\n"
      ],
      "metadata": {
        "colab": {
          "base_uri": "https://localhost:8080/"
        },
        "id": "EbtD7-lav230",
        "outputId": "d1a19896-b229-4618-bb1d-06c37129f917"
      },
      "execution_count": 12,
      "outputs": [
        {
          "output_type": "stream",
          "name": "stdout",
          "text": [
            "[ 2.   1.  10.   7.   4.5  3.   4. ]\n"
          ]
        }
      ]
    },
    {
      "cell_type": "code",
      "source": [
        "# Reemplazar\n",
        "# Después el club decide subir el precio de los pasteles de $10 a $12.\n",
        "# Nuevamente, tendremos que identificar el elemento usando el índice.  Los pasteles están en el índice 2.\n",
        "\n",
        "price_array[2] = 12\n",
        "print(price_array)"
      ],
      "metadata": {
        "colab": {
          "base_uri": "https://localhost:8080/"
        },
        "id": "q8zST75fwGWl",
        "outputId": "fa46155d-1950-4c61-88d7-46a14f705c1f"
      },
      "execution_count": 13,
      "outputs": [
        {
          "output_type": "stream",
          "name": "stdout",
          "text": [
            "[ 2.   1.  12.   7.   4.5  3.   4. ]\n"
          ]
        }
      ]
    },
    {
      "cell_type": "code",
      "source": [
        "# 2) Actualicen el quantity_sold_array para incluir la venta de 2 tartas, 3 bandejas de dulces, 16 magdalenas y 5 panes de plátano.\n",
        "# También se darán cuenta que una de las galletas que pensaron que se había vendido en realidad se cayó al suelo, así que editen quantity_sold_array de 40 a 39.\n",
        "\n",
        "quantity_sold_array = np.append(quantity_sold_array, [2, 3, 16, 5])\n",
        "print(quantity_sold_array)"
      ],
      "metadata": {
        "colab": {
          "base_uri": "https://localhost:8080/"
        },
        "id": "jWdxf8Hiw79e",
        "outputId": "345dc290-5761-469e-dd38-707381d82afb"
      },
      "execution_count": 14,
      "outputs": [
        {
          "output_type": "stream",
          "name": "stdout",
          "text": [
            "[17 40  1  2  3 16  5]\n"
          ]
        }
      ]
    },
    {
      "cell_type": "code",
      "source": [
        "quantity_sold_array[1] = 39\n",
        "print(quantity_sold_array)"
      ],
      "metadata": {
        "colab": {
          "base_uri": "https://localhost:8080/"
        },
        "id": "1dDZUqxMw-Gt",
        "outputId": "8853a89d-570f-406a-fdaa-a015806c035b"
      },
      "execution_count": 15,
      "outputs": [
        {
          "output_type": "stream",
          "name": "stdout",
          "text": [
            "[17 39  1  2  3 16  5]\n"
          ]
        }
      ]
    },
    {
      "cell_type": "code",
      "source": [
        "# 3) Determinen la cantidad de dinero recaudado de la venta de cada elemento en la venta de la panadería.\n",
        "\n",
        "quantity_sold_array*price_array"
      ],
      "metadata": {
        "colab": {
          "base_uri": "https://localhost:8080/"
        },
        "id": "U14Q-0OhyvsI",
        "outputId": "a57b4450-7223-4212-9074-a0c7b23d589d"
      },
      "execution_count": 16,
      "outputs": [
        {
          "output_type": "execute_result",
          "data": {
            "text/plain": [
              "array([34. , 39. , 12. , 14. , 13.5, 48. , 20. ])"
            ]
          },
          "metadata": {},
          "execution_count": 16
        }
      ]
    },
    {
      "cell_type": "code",
      "source": [
        "ventas_inicial = sum(quantity_sold_array*price_array)\n",
        "\n",
        "print(\"Ventas Inicial\", ventas_inicial)"
      ],
      "metadata": {
        "colab": {
          "base_uri": "https://localhost:8080/"
        },
        "id": "gNaFIW3T1Wjr",
        "outputId": "2b9d06c7-7a2f-4ef3-90f9-f5020b67b3ab"
      },
      "execution_count": 25,
      "outputs": [
        {
          "output_type": "stream",
          "name": "stdout",
          "text": [
            "Ventas Inicial 180.5\n"
          ]
        }
      ]
    },
    {
      "cell_type": "code",
      "source": [
        "#4) Creen un array de NumPy \"quantity_leftover\" que incluya la cantidad de cada elemento restante al final de la venta:\n",
        "#2 pasteles, 1 tarta, 6 bandejas de dulces, 2 panes de plátano.  (brownies, galletas, pastel, tartas, bandejas de dulces, magdalenas y panes de plátano )\n",
        "#Pista: Asegúrense de incluir “0” de cada elemento que se haya vendido. ¿Por qué esto es importante cuando se crea un array? Para respetar la matriz de ventas con cada tipo.\n",
        "\n",
        "quantity_leftover = [0, 0, 2, 1, 6, 0, 2]\n",
        "type(quantity_sold)\n"
      ],
      "metadata": {
        "colab": {
          "base_uri": "https://localhost:8080/"
        },
        "id": "YPY7Y9I01iw3",
        "outputId": "5fe2e121-9ee4-4a8a-c53e-bbe9c5da1d1d"
      },
      "execution_count": 18,
      "outputs": [
        {
          "output_type": "execute_result",
          "data": {
            "text/plain": [
              "list"
            ]
          },
          "metadata": {},
          "execution_count": 18
        }
      ]
    },
    {
      "cell_type": "code",
      "source": [
        "quantity_leftover = np.array(quantity_leftover)\n",
        "type(quantity_leftover)\n"
      ],
      "metadata": {
        "colab": {
          "base_uri": "https://localhost:8080/"
        },
        "id": "ZePKI1H12wnw",
        "outputId": "93522674-09fa-4278-8c4d-05cd3bdd786b"
      },
      "execution_count": 19,
      "outputs": [
        {
          "output_type": "execute_result",
          "data": {
            "text/plain": [
              "numpy.ndarray"
            ]
          },
          "metadata": {},
          "execution_count": 19
        }
      ]
    },
    {
      "cell_type": "code",
      "source": [
        "# 5) El club decide vender los elementos restantes a mitad de precio, y todo se venda rápidamente.\n",
        "# Determinen cuanto dinero se recaudó de la venta de liquidación.\n",
        "\n",
        "venta_restante = sum(price_array*quantity_leftover*0.5)\n",
        "print(\"Venta Restante\", venta_restante)\n"
      ],
      "metadata": {
        "colab": {
          "base_uri": "https://localhost:8080/"
        },
        "id": "NkTOmaAI3B6q",
        "outputId": "ce3dceda-4537-4e4f-b881-ad276cfb7ff3"
      },
      "execution_count": 23,
      "outputs": [
        {
          "output_type": "stream",
          "name": "stdout",
          "text": [
            "Venta Restante 33.0\n"
          ]
        }
      ]
    },
    {
      "cell_type": "code",
      "source": [
        "#6) ¿Cuánto dinero total se recaudó de la venta de panadería (incluido la venta del precio total y los elementos liquidados)?\n",
        "\n",
        "venta_total = ventas_inicial+venta_restante\n",
        "print(\"Venta Total\", venta_total)"
      ],
      "metadata": {
        "colab": {
          "base_uri": "https://localhost:8080/"
        },
        "id": "irEyVKQ_4ecE",
        "outputId": "9b340b0a-46bb-4b57-b544-f5401bdbb2d2"
      },
      "execution_count": 26,
      "outputs": [
        {
          "output_type": "stream",
          "name": "stdout",
          "text": [
            "Venta Total 213.5\n"
          ]
        }
      ]
    }
  ]
}